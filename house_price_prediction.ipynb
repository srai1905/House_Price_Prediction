{
  "cells": [
    {
      "cell_type": "markdown",
      "metadata": {
        "id": "view-in-github",
        "colab_type": "text"
      },
      "source": [
        "<a href=\"https://colab.research.google.com/github/srai1905/cv/blob/main/house_price_prediction.ipynb\" target=\"_parent\"><img src=\"https://colab.research.google.com/assets/colab-badge.svg\" alt=\"Open In Colab\"/></a>"
      ]
    },
    {
      "cell_type": "code",
      "execution_count": null,
      "id": "4664507f",
      "metadata": {
        "execution": {
          "iopub.execute_input": "2022-12-20T05:28:18.685618Z",
          "iopub.status.busy": "2022-12-20T05:28:18.684946Z",
          "iopub.status.idle": "2022-12-20T05:28:18.726912Z",
          "shell.execute_reply": "2022-12-20T05:28:18.726235Z"
        },
        "papermill": {
          "duration": 0.049042,
          "end_time": "2022-12-20T05:28:18.728950",
          "exception": false,
          "start_time": "2022-12-20T05:28:18.679908",
          "status": "completed"
        },
        "tags": [],
        "id": "4664507f"
      },
      "outputs": [],
      "source": [
        "# Set up code checking\n",
        "from learntools.core import binder\n",
        "binder.bind(globals())\n",
        "from learntools.machine_learning.ex7 import *\n",
        "\n",
        "# Set up filepaths\n",
        "import os\n",
        "if not os.path.exists(\"../input/train.csv\"):\n",
        "    os.symlink(\"../input/home-data-for-ml-course/train.csv\", \"../input/train.csv\")  \n",
        "    os.symlink(\"../input/home-data-for-ml-course/test.csv\", \"../input/test.csv\") "
      ]
    },
    {
      "cell_type": "code",
      "execution_count": null,
      "id": "1c9ec124",
      "metadata": {
        "execution": {
          "iopub.execute_input": "2022-12-20T05:28:18.742929Z",
          "iopub.status.busy": "2022-12-20T05:28:18.742372Z",
          "iopub.status.idle": "2022-12-20T05:28:20.148481Z",
          "shell.execute_reply": "2022-12-20T05:28:20.147600Z"
        },
        "papermill": {
          "duration": 1.412266,
          "end_time": "2022-12-20T05:28:20.150511",
          "exception": false,
          "start_time": "2022-12-20T05:28:18.738245",
          "status": "completed"
        },
        "tags": [],
        "id": "1c9ec124",
        "outputId": "624ee444-5196-491e-82c0-c6a1df1dd7cd"
      },
      "outputs": [
        {
          "name": "stdout",
          "output_type": "stream",
          "text": [
            "Validation MAE for Random Forest Model: 21,857\n"
          ]
        }
      ],
      "source": [
        "# Import helpful libraries\n",
        "import pandas as pd\n",
        "from sklearn.ensemble import RandomForestRegressor\n",
        "from sklearn.metrics import mean_absolute_error\n",
        "from sklearn.model_selection import train_test_split\n",
        "\n",
        "# Load the data, and separate the target\n",
        "iowa_file_path = '../input/train.csv'\n",
        "home_data = pd.read_csv(iowa_file_path)\n",
        "y = home_data.SalePrice\n",
        "\n",
        "# Create X (After completing the exercise, you can return to modify this line!)\n",
        "features = ['LotArea', 'YearBuilt', '1stFlrSF', '2ndFlrSF', 'FullBath', 'BedroomAbvGr', 'TotRmsAbvGrd']\n",
        "\n",
        "# Select columns corresponding to features, and preview the data\n",
        "X = home_data[features]\n",
        "X.head()\n",
        "\n",
        "# Split into validation and training data\n",
        "train_X, val_X, train_y, val_y = train_test_split(X, y, random_state=1)\n",
        "\n",
        "# Define a random forest model\n",
        "rf_model = RandomForestRegressor(random_state=1)\n",
        "rf_model.fit(train_X, train_y)\n",
        "rf_val_predictions = rf_model.predict(val_X)\n",
        "rf_val_mae = mean_absolute_error(rf_val_predictions, val_y)\n",
        "\n",
        "print(\"Validation MAE for Random Forest Model: {:,.0f}\".format(rf_val_mae))"
      ]
    },
    {
      "cell_type": "code",
      "execution_count": null,
      "id": "50003d57",
      "metadata": {
        "execution": {
          "iopub.execute_input": "2022-12-20T05:28:20.165208Z",
          "iopub.status.busy": "2022-12-20T05:28:20.164848Z",
          "iopub.status.idle": "2022-12-20T05:28:20.591183Z",
          "shell.execute_reply": "2022-12-20T05:28:20.590281Z"
        },
        "papermill": {
          "duration": 0.432513,
          "end_time": "2022-12-20T05:28:20.593015",
          "exception": false,
          "start_time": "2022-12-20T05:28:20.160502",
          "status": "completed"
        },
        "tags": [],
        "id": "50003d57",
        "outputId": "9afe30d9-627e-4098-d3fc-f96e2320f992"
      },
      "outputs": [
        {
          "data": {
            "text/plain": [
              "RandomForestRegressor(random_state=1)"
            ]
          },
          "execution_count": 3,
          "metadata": {},
          "output_type": "execute_result"
        }
      ],
      "source": [
        "# To improve accuracy, create a new Random Forest model which you will train on all training data\n",
        "rf_model_on_full_data = RandomForestRegressor(random_state = 1)\n",
        "\n",
        "\n",
        "\n",
        "# fit rf_model_on_full_data on all data from the training data\n",
        "rf_model_on_full_data.fit(X,y)"
      ]
    },
    {
      "cell_type": "markdown",
      "id": "775a480c",
      "metadata": {
        "papermill": {
          "duration": 0.003169,
          "end_time": "2022-12-20T05:28:20.599650",
          "exception": false,
          "start_time": "2022-12-20T05:28:20.596481",
          "status": "completed"
        },
        "tags": [],
        "id": "775a480c"
      },
      "source": [
        "Now, read the file of \"test\" data, and apply your model to make predictions."
      ]
    },
    {
      "cell_type": "code",
      "execution_count": null,
      "id": "e8177252",
      "metadata": {
        "execution": {
          "iopub.execute_input": "2022-12-20T05:28:20.607723Z",
          "iopub.status.busy": "2022-12-20T05:28:20.606950Z",
          "iopub.status.idle": "2022-12-20T05:28:20.669622Z",
          "shell.execute_reply": "2022-12-20T05:28:20.668923Z"
        },
        "papermill": {
          "duration": 0.068739,
          "end_time": "2022-12-20T05:28:20.671585",
          "exception": false,
          "start_time": "2022-12-20T05:28:20.602846",
          "status": "completed"
        },
        "tags": [],
        "id": "e8177252"
      },
      "outputs": [],
      "source": [
        "# path to file you will use for predictions\n",
        "test_data_path = '../input/test.csv'\n",
        "\n",
        "# read test data file using pandas\n",
        "test_data = pd.read_csv(test_data_path)\n",
        "\n",
        "# create test_X which comes from test_data but includes only the columns you used for prediction.\n",
        "# The list of columns is stored in a variable called features\n",
        "test_X = test_data[features]\n",
        "\n",
        "# make predictions which we will submit. \n",
        "test_preds = rf_model_on_full_data.predict(test_X)"
      ]
    },
    {
      "cell_type": "code",
      "execution_count": null,
      "id": "8e54d00e",
      "metadata": {
        "execution": {
          "iopub.execute_input": "2022-12-20T05:28:20.709463Z",
          "iopub.status.busy": "2022-12-20T05:28:20.708981Z",
          "iopub.status.idle": "2022-12-20T05:28:20.718194Z",
          "shell.execute_reply": "2022-12-20T05:28:20.717663Z"
        },
        "papermill": {
          "duration": 0.015219,
          "end_time": "2022-12-20T05:28:20.719852",
          "exception": false,
          "start_time": "2022-12-20T05:28:20.704633",
          "status": "completed"
        },
        "tags": [],
        "id": "8e54d00e"
      },
      "outputs": [],
      "source": [
        "# Run the code to save predictions in the format used for competition scoring\n",
        "\n",
        "output = pd.DataFrame({'Id': test_data.Id,\n",
        "                       'SalePrice': test_preds})\n",
        "output.to_csv('submission.csv', index=False)"
      ]
    }
  ],
  "metadata": {
    "kernelspec": {
      "display_name": "Python 3",
      "language": "python",
      "name": "python3"
    },
    "language_info": {
      "codemirror_mode": {
        "name": "ipython",
        "version": 3
      },
      "file_extension": ".py",
      "mimetype": "text/x-python",
      "name": "python",
      "nbconvert_exporter": "python",
      "pygments_lexer": "ipython3",
      "version": "3.7.12"
    },
    "papermill": {
      "default_parameters": {},
      "duration": 10.382748,
      "end_time": "2022-12-20T05:28:21.355926",
      "environment_variables": {},
      "exception": null,
      "input_path": "__notebook__.ipynb",
      "output_path": "__notebook__.ipynb",
      "parameters": {},
      "start_time": "2022-12-20T05:28:10.973178",
      "version": "2.3.4"
    },
    "colab": {
      "provenance": [],
      "include_colab_link": true
    }
  },
  "nbformat": 4,
  "nbformat_minor": 5
}